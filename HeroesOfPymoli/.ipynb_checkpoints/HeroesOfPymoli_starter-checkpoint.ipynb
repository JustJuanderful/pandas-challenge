{
 "cells": [
  {
   "cell_type": "markdown",
   "metadata": {},
   "source": [
    "### Heroes Of Pymoli Data Analysis\n",
    "* Of the 1163 active players, the vast majority are male (84%). There also exists, a smaller, but notable proportion of female players (14%).\n",
    "\n",
    "* Our peak age demographic falls between 20-24 (44.8%) with secondary groups falling between 15-19 (18.60%) and 25-29 (13.4%).  \n",
    "-----"
   ]
  },
  {
   "cell_type": "markdown",
   "metadata": {},
   "source": [
    "### Note\n",
    "* Instructions have been included for each segment. You do not have to follow them exactly, but they are included to help you think through the steps."
   ]
  },
  {
   "cell_type": "code",
   "execution_count": 3,
   "metadata": {},
   "outputs": [],
   "source": [
    "# Dependencies and Setup\n",
    "import pandas as pd\n",
    "\n",
    "# File to Load (Remember to Change These)\n",
    "file_to_load = \"Resources/purchase_data.csv\"\n",
    "\n",
    "# Read Purchasing File and store into Pandas data frame\n",
    "purchase_data = pd.read_csv(file_to_load)"
   ]
  },
  {
   "cell_type": "markdown",
   "metadata": {},
   "source": [
    "## Player Count"
   ]
  },
  {
   "cell_type": "markdown",
   "metadata": {},
   "source": [
    "* Display the total number of players\n"
   ]
  },
  {
   "cell_type": "code",
   "execution_count": 4,
   "metadata": {},
   "outputs": [
    {
     "name": "stdout",
     "output_type": "stream",
     "text": [
      "Total Number of Players: 576\n"
     ]
    }
   ],
   "source": [
    "player_count = len(purchase_data[\"SN\"].unique())\n",
    "print(f\"Total Number of Players: {player_count}\")"
   ]
  },
  {
   "cell_type": "markdown",
   "metadata": {},
   "source": [
    "## Purchasing Analysis (Total)"
   ]
  },
  {
   "cell_type": "markdown",
   "metadata": {},
   "source": [
    "* Run basic calculations to obtain number of unique items, average price, etc.\n",
    "\n",
    "\n",
    "* Create a summary data frame to hold the results\n",
    "\n",
    "\n",
    "* Optional: give the displayed data cleaner formatting\n",
    "\n",
    "\n",
    "* Display the summary data frame\n"
   ]
  },
  {
   "cell_type": "code",
   "execution_count": 5,
   "metadata": {
    "scrolled": true
   },
   "outputs": [
    {
     "data": {
      "text/html": [
       "<style  type=\"text/css\" >\n",
       "</style><table id=\"T_fc15f768_73bf_11ea_8ff4_9cb6d068150c\" ><thead>    <tr>        <th class=\"col_heading level0 col0\" >Number of Unique Items</th>        <th class=\"col_heading level0 col1\" >Average Price</th>        <th class=\"col_heading level0 col2\" >Number of Purchases</th>        <th class=\"col_heading level0 col3\" >Total Revenue</th>    </tr></thead><tbody>\n",
       "                <tr>\n",
       "                                <td id=\"T_fc15f768_73bf_11ea_8ff4_9cb6d068150crow0_col0\" class=\"data row0 col0\" >179</td>\n",
       "                        <td id=\"T_fc15f768_73bf_11ea_8ff4_9cb6d068150crow0_col1\" class=\"data row0 col1\" >$3.05</td>\n",
       "                        <td id=\"T_fc15f768_73bf_11ea_8ff4_9cb6d068150crow0_col2\" class=\"data row0 col2\" >780</td>\n",
       "                        <td id=\"T_fc15f768_73bf_11ea_8ff4_9cb6d068150crow0_col3\" class=\"data row0 col3\" >$2,379.77</td>\n",
       "            </tr>\n",
       "    </tbody></table>"
      ],
      "text/plain": [
       "<pandas.io.formats.style.Styler at 0x270a02cfdc8>"
      ]
     },
     "execution_count": 5,
     "metadata": {},
     "output_type": "execute_result"
    }
   ],
   "source": [
    "num_items = len(purchase_data[\"Item Name\"].unique())\n",
    "avg_price = purchase_data[\"Price\"].mean()\n",
    "num_purch = purchase_data[\"Purchase ID\"].count()\n",
    "total_rev = purchase_data[\"Price\"].sum()\n",
    "\n",
    "purchasing_analysis = pd.DataFrame({\"Number of Unique Items\": [num_items],\n",
    "                              \"Average Price\": avg_price,\n",
    "                              \"Number of Purchases\": num_purch,\n",
    "                              \"Total Revenue\": total_rev})\n",
    "\n",
    "format_dict = {\"Average Price\": \"${0:,.2f}\",\"Total Revenue\": \"${0:,.2f}\"}\n",
    "purchasing_analysis.style.format(format_dict).hide_index()"
   ]
  },
  {
   "cell_type": "markdown",
   "metadata": {},
   "source": [
    "## Gender Demographics"
   ]
  },
  {
   "cell_type": "markdown",
   "metadata": {},
   "source": [
    "* Percentage and Count of Male Players\n",
    "\n",
    "\n",
    "* Percentage and Count of Female Players\n",
    "\n",
    "\n",
    "* Percentage and Count of Other / Non-Disclosed\n",
    "\n",
    "\n"
   ]
  },
  {
   "cell_type": "code",
   "execution_count": 6,
   "metadata": {},
   "outputs": [
    {
     "data": {
      "text/html": [
       "<style  type=\"text/css\" >\n",
       "</style><table id=\"T_fe8bcd1e_73bf_11ea_b5cc_9cb6d068150c\" ><thead>    <tr>        <th class=\"col_heading level0 col0\" >Gender</th>        <th class=\"col_heading level0 col1\" >Total Count</th>        <th class=\"col_heading level0 col2\" >Percentage of Players</th>    </tr></thead><tbody>\n",
       "                <tr>\n",
       "                                <td id=\"T_fe8bcd1e_73bf_11ea_b5cc_9cb6d068150crow0_col0\" class=\"data row0 col0\" >Female</td>\n",
       "                        <td id=\"T_fe8bcd1e_73bf_11ea_b5cc_9cb6d068150crow0_col1\" class=\"data row0 col1\" >81</td>\n",
       "                        <td id=\"T_fe8bcd1e_73bf_11ea_b5cc_9cb6d068150crow0_col2\" class=\"data row0 col2\" >14.06%</td>\n",
       "            </tr>\n",
       "            <tr>\n",
       "                                <td id=\"T_fe8bcd1e_73bf_11ea_b5cc_9cb6d068150crow1_col0\" class=\"data row1 col0\" >Male</td>\n",
       "                        <td id=\"T_fe8bcd1e_73bf_11ea_b5cc_9cb6d068150crow1_col1\" class=\"data row1 col1\" >484</td>\n",
       "                        <td id=\"T_fe8bcd1e_73bf_11ea_b5cc_9cb6d068150crow1_col2\" class=\"data row1 col2\" >84.03%</td>\n",
       "            </tr>\n",
       "            <tr>\n",
       "                                <td id=\"T_fe8bcd1e_73bf_11ea_b5cc_9cb6d068150crow2_col0\" class=\"data row2 col0\" >Other / Non-Disclosed</td>\n",
       "                        <td id=\"T_fe8bcd1e_73bf_11ea_b5cc_9cb6d068150crow2_col1\" class=\"data row2 col1\" >11</td>\n",
       "                        <td id=\"T_fe8bcd1e_73bf_11ea_b5cc_9cb6d068150crow2_col2\" class=\"data row2 col2\" >1.91%</td>\n",
       "            </tr>\n",
       "    </tbody></table>"
      ],
      "text/plain": [
       "<pandas.io.formats.style.Styler at 0x270a1048a88>"
      ]
     },
     "execution_count": 6,
     "metadata": {},
     "output_type": "execute_result"
    }
   ],
   "source": [
    "gender_df = purchase_data[[\"SN\", \"Gender\"]]\n",
    "dropdups_gender_df = gender_df.drop_duplicates()\n",
    "clean_gender_df = dropdups_gender_df.rename(columns={\"SN\":\"Total Count\"})\n",
    "\n",
    "gender_groups = clean_gender_df.groupby([pd.Grouper(key=\"Gender\")])[\"Total Count\"].agg(\"count\").reset_index()\n",
    "\n",
    "pct_of_total = gender_groups[\"Total Count\"] / player_count\n",
    "gender_groups[\"Percentage of Players\"] = pct_of_total\n",
    "\n",
    "format_dict = {\"Percentage of Players\": \"{:.2%}\"}\n",
    "gender_groups.style.format(format_dict).hide_index()"
   ]
  },
  {
   "cell_type": "markdown",
   "metadata": {},
   "source": [
    "\n",
    "## Purchasing Analysis (Gender)"
   ]
  },
  {
   "cell_type": "markdown",
   "metadata": {},
   "source": [
    "* Run basic calculations to obtain purchase count, avg. purchase price, avg. purchase total per person etc. by gender\n",
    "\n",
    "\n",
    "\n",
    "\n",
    "* Create a summary data frame to hold the results\n",
    "\n",
    "\n",
    "* Optional: give the displayed data cleaner formatting\n",
    "\n",
    "\n",
    "* Display the summary data frame"
   ]
  },
  {
   "cell_type": "code",
   "execution_count": 7,
   "metadata": {},
   "outputs": [
    {
     "data": {
      "text/html": [
       "<style  type=\"text/css\" >\n",
       "</style><table id=\"T_0337d0be_73c0_11ea_af42_9cb6d068150c\" ><thead>    <tr>        <th class=\"blank level0\" ></th>        <th class=\"col_heading level0 col0\" >Purchase Count</th>        <th class=\"col_heading level0 col1\" >Average Purchase Price</th>        <th class=\"col_heading level0 col2\" >Total Purchase Value</th>        <th class=\"col_heading level0 col3\" >Average Total Purchase per Person</th>    </tr>    <tr>        <th class=\"index_name level0\" >Gender</th>        <th class=\"blank\" ></th>        <th class=\"blank\" ></th>        <th class=\"blank\" ></th>        <th class=\"blank\" ></th>    </tr></thead><tbody>\n",
       "                <tr>\n",
       "                        <th id=\"T_0337d0be_73c0_11ea_af42_9cb6d068150clevel0_row0\" class=\"row_heading level0 row0\" >Female</th>\n",
       "                        <td id=\"T_0337d0be_73c0_11ea_af42_9cb6d068150crow0_col0\" class=\"data row0 col0\" >113</td>\n",
       "                        <td id=\"T_0337d0be_73c0_11ea_af42_9cb6d068150crow0_col1\" class=\"data row0 col1\" >$3.20</td>\n",
       "                        <td id=\"T_0337d0be_73c0_11ea_af42_9cb6d068150crow0_col2\" class=\"data row0 col2\" >$113.00</td>\n",
       "                        <td id=\"T_0337d0be_73c0_11ea_af42_9cb6d068150crow0_col3\" class=\"data row0 col3\" >$3.20</td>\n",
       "            </tr>\n",
       "            <tr>\n",
       "                        <th id=\"T_0337d0be_73c0_11ea_af42_9cb6d068150clevel0_row1\" class=\"row_heading level0 row1\" >Male</th>\n",
       "                        <td id=\"T_0337d0be_73c0_11ea_af42_9cb6d068150crow1_col0\" class=\"data row1 col0\" >652</td>\n",
       "                        <td id=\"T_0337d0be_73c0_11ea_af42_9cb6d068150crow1_col1\" class=\"data row1 col1\" >$3.02</td>\n",
       "                        <td id=\"T_0337d0be_73c0_11ea_af42_9cb6d068150crow1_col2\" class=\"data row1 col2\" >$652.00</td>\n",
       "                        <td id=\"T_0337d0be_73c0_11ea_af42_9cb6d068150crow1_col3\" class=\"data row1 col3\" >$3.02</td>\n",
       "            </tr>\n",
       "            <tr>\n",
       "                        <th id=\"T_0337d0be_73c0_11ea_af42_9cb6d068150clevel0_row2\" class=\"row_heading level0 row2\" >Other / Non-Disclosed</th>\n",
       "                        <td id=\"T_0337d0be_73c0_11ea_af42_9cb6d068150crow2_col0\" class=\"data row2 col0\" >15</td>\n",
       "                        <td id=\"T_0337d0be_73c0_11ea_af42_9cb6d068150crow2_col1\" class=\"data row2 col1\" >$3.35</td>\n",
       "                        <td id=\"T_0337d0be_73c0_11ea_af42_9cb6d068150crow2_col2\" class=\"data row2 col2\" >$15.00</td>\n",
       "                        <td id=\"T_0337d0be_73c0_11ea_af42_9cb6d068150crow2_col3\" class=\"data row2 col3\" >$3.35</td>\n",
       "            </tr>\n",
       "    </tbody></table>"
      ],
      "text/plain": [
       "<pandas.io.formats.style.Styler at 0x270a104e3c8>"
      ]
     },
     "execution_count": 7,
     "metadata": {},
     "output_type": "execute_result"
    }
   ],
   "source": [
    "purchase_rev_gen = purchase_data.groupby(\"Gender\").sum()[\"Price\"]\n",
    "purchase_count_gen = purchase_data.groupby(\"Gender\").count()[\"SN\"]\n",
    "avg_price_gen = purchase_data.groupby(\"Gender\").mean()[\"Price\"]\n",
    "\n",
    "avg_per_person = purchase_rev_gen / purchase_count_gen\n",
    "\n",
    "purchasing_analysis_gen = pd.DataFrame({\"Purchase Count\": purchase_count_gen, \n",
    "                                \"Average Purchase Price\": avg_price_gen,\n",
    "                                \"Total Purchase Value\": purchase_count_gen,\n",
    "                                \"Average Total Purchase per Person\": avg_per_person})\n",
    "\n",
    "format_dict = {\"Average Purchase Price\": \"${0:,.2f}\",\n",
    "               \"Total Purchase Value\": \"${0:,.2f}\",\n",
    "               \"Average Total Purchase per Person\": \"${0:,.2f}\"}\n",
    "purchasing_analysis_gen.style.format(format_dict)"
   ]
  },
  {
   "cell_type": "markdown",
   "metadata": {},
   "source": [
    "## Age Demographics"
   ]
  },
  {
   "cell_type": "markdown",
   "metadata": {},
   "source": [
    "* Establish bins for ages\n",
    "\n",
    "\n",
    "* Categorize the existing players using the age bins. Hint: use pd.cut()\n",
    "\n",
    "\n",
    "* Calculate the numbers and percentages by age group\n",
    "\n",
    "\n",
    "* Create a summary data frame to hold the results\n",
    "\n",
    "\n",
    "* Optional: round the percentage column to two decimal points\n",
    "\n",
    "\n",
    "* Display Age Demographics Table\n"
   ]
  },
  {
   "cell_type": "code",
   "execution_count": 8,
   "metadata": {},
   "outputs": [
    {
     "data": {
      "text/html": [
       "<style  type=\"text/css\" >\n",
       "</style><table id=\"T_0555fb30_73c0_11ea_8395_9cb6d068150c\" ><thead>    <tr>        <th class=\"blank level0\" ></th>        <th class=\"col_heading level0 col0\" >Total Count</th>        <th class=\"col_heading level0 col1\" >Percentage of Players</th>    </tr>    <tr>        <th class=\"index_name level0\" >Age Groups</th>        <th class=\"blank\" ></th>        <th class=\"blank\" ></th>    </tr></thead><tbody>\n",
       "                <tr>\n",
       "                        <th id=\"T_0555fb30_73c0_11ea_8395_9cb6d068150clevel0_row0\" class=\"row_heading level0 row0\" ><10</th>\n",
       "                        <td id=\"T_0555fb30_73c0_11ea_8395_9cb6d068150crow0_col0\" class=\"data row0 col0\" >23</td>\n",
       "                        <td id=\"T_0555fb30_73c0_11ea_8395_9cb6d068150crow0_col1\" class=\"data row0 col1\" >3.99%</td>\n",
       "            </tr>\n",
       "            <tr>\n",
       "                        <th id=\"T_0555fb30_73c0_11ea_8395_9cb6d068150clevel0_row1\" class=\"row_heading level0 row1\" >10-14</th>\n",
       "                        <td id=\"T_0555fb30_73c0_11ea_8395_9cb6d068150crow1_col0\" class=\"data row1 col0\" >28</td>\n",
       "                        <td id=\"T_0555fb30_73c0_11ea_8395_9cb6d068150crow1_col1\" class=\"data row1 col1\" >4.86%</td>\n",
       "            </tr>\n",
       "            <tr>\n",
       "                        <th id=\"T_0555fb30_73c0_11ea_8395_9cb6d068150clevel0_row2\" class=\"row_heading level0 row2\" >15-19</th>\n",
       "                        <td id=\"T_0555fb30_73c0_11ea_8395_9cb6d068150crow2_col0\" class=\"data row2 col0\" >136</td>\n",
       "                        <td id=\"T_0555fb30_73c0_11ea_8395_9cb6d068150crow2_col1\" class=\"data row2 col1\" >23.61%</td>\n",
       "            </tr>\n",
       "            <tr>\n",
       "                        <th id=\"T_0555fb30_73c0_11ea_8395_9cb6d068150clevel0_row3\" class=\"row_heading level0 row3\" >20-24</th>\n",
       "                        <td id=\"T_0555fb30_73c0_11ea_8395_9cb6d068150crow3_col0\" class=\"data row3 col0\" >365</td>\n",
       "                        <td id=\"T_0555fb30_73c0_11ea_8395_9cb6d068150crow3_col1\" class=\"data row3 col1\" >63.37%</td>\n",
       "            </tr>\n",
       "            <tr>\n",
       "                        <th id=\"T_0555fb30_73c0_11ea_8395_9cb6d068150clevel0_row4\" class=\"row_heading level0 row4\" >25-29</th>\n",
       "                        <td id=\"T_0555fb30_73c0_11ea_8395_9cb6d068150crow4_col0\" class=\"data row4 col0\" >101</td>\n",
       "                        <td id=\"T_0555fb30_73c0_11ea_8395_9cb6d068150crow4_col1\" class=\"data row4 col1\" >17.53%</td>\n",
       "            </tr>\n",
       "            <tr>\n",
       "                        <th id=\"T_0555fb30_73c0_11ea_8395_9cb6d068150clevel0_row5\" class=\"row_heading level0 row5\" >30-34</th>\n",
       "                        <td id=\"T_0555fb30_73c0_11ea_8395_9cb6d068150crow5_col0\" class=\"data row5 col0\" >73</td>\n",
       "                        <td id=\"T_0555fb30_73c0_11ea_8395_9cb6d068150crow5_col1\" class=\"data row5 col1\" >12.67%</td>\n",
       "            </tr>\n",
       "            <tr>\n",
       "                        <th id=\"T_0555fb30_73c0_11ea_8395_9cb6d068150clevel0_row6\" class=\"row_heading level0 row6\" >35-39</th>\n",
       "                        <td id=\"T_0555fb30_73c0_11ea_8395_9cb6d068150crow6_col0\" class=\"data row6 col0\" >41</td>\n",
       "                        <td id=\"T_0555fb30_73c0_11ea_8395_9cb6d068150crow6_col1\" class=\"data row6 col1\" >7.12%</td>\n",
       "            </tr>\n",
       "            <tr>\n",
       "                        <th id=\"T_0555fb30_73c0_11ea_8395_9cb6d068150clevel0_row7\" class=\"row_heading level0 row7\" >40+</th>\n",
       "                        <td id=\"T_0555fb30_73c0_11ea_8395_9cb6d068150crow7_col0\" class=\"data row7 col0\" >13</td>\n",
       "                        <td id=\"T_0555fb30_73c0_11ea_8395_9cb6d068150crow7_col1\" class=\"data row7 col1\" >2.26%</td>\n",
       "            </tr>\n",
       "    </tbody></table>"
      ],
      "text/plain": [
       "<pandas.io.formats.style.Styler at 0x270a02b8ac8>"
      ]
     },
     "execution_count": 8,
     "metadata": {},
     "output_type": "execute_result"
    }
   ],
   "source": [
    "age_bins = [0, 9, 14, 19, 24, 29, 34, 39, 999]\n",
    "age_groups = [\"<10\", \"10-14\", \"15-19\", \"20-24\", \"25-29\", \"30-34\", \"35-39\", \"40+\"]\n",
    "\n",
    "purchase_data[\"Age Groups\"] = pd.cut(purchase_data[\"Age\"], age_bins, labels=age_groups, include_lowest=True)\n",
    "\n",
    "num_grouped_ages = purchase_data.groupby(\"Age Groups\").count()[\"Age\"]\n",
    "age_PoP = num_grouped_ages / player_count\n",
    "\n",
    "age_demographics = pd.DataFrame({\"Total Count\": num_grouped_ages,\n",
    "                                \"Percentage of Players\": age_PoP})\n",
    "\n",
    "format_dict = {\"Percentage of Players\": \"{:.2%}\"}\n",
    "age_demographics.style.format(format_dict)"
   ]
  },
  {
   "cell_type": "markdown",
   "metadata": {},
   "source": [
    "## Purchasing Analysis (Age)"
   ]
  },
  {
   "cell_type": "markdown",
   "metadata": {},
   "source": [
    "* Bin the purchase_data data frame by age\n",
    "\n",
    "\n",
    "* Run basic calculations to obtain purchase count, avg. purchase price, avg. purchase total per person etc. in the table below\n",
    "\n",
    "\n",
    "* Create a summary data frame to hold the results\n",
    "\n",
    "\n",
    "* Optional: give the displayed data cleaner formatting\n",
    "\n",
    "\n",
    "* Display the summary data frame"
   ]
  },
  {
   "cell_type": "code",
   "execution_count": 9,
   "metadata": {},
   "outputs": [
    {
     "data": {
      "text/html": [
       "<style  type=\"text/css\" >\n",
       "</style><table id=\"T_07867868_73c0_11ea_94dd_9cb6d068150c\" ><thead>    <tr>        <th class=\"blank level0\" ></th>        <th class=\"col_heading level0 col0\" >Purchase Count</th>        <th class=\"col_heading level0 col1\" >Average Purchase Price</th>        <th class=\"col_heading level0 col2\" >Total Purchase Value</th>        <th class=\"col_heading level0 col3\" >Average Total Purchase per Person</th>    </tr>    <tr>        <th class=\"index_name level0\" >Age Ranges</th>        <th class=\"blank\" ></th>        <th class=\"blank\" ></th>        <th class=\"blank\" ></th>        <th class=\"blank\" ></th>    </tr></thead><tbody>\n",
       "                <tr>\n",
       "                        <th id=\"T_07867868_73c0_11ea_94dd_9cb6d068150clevel0_row0\" class=\"row_heading level0 row0\" ><10</th>\n",
       "                        <td id=\"T_07867868_73c0_11ea_94dd_9cb6d068150crow0_col0\" class=\"data row0 col0\" >23</td>\n",
       "                        <td id=\"T_07867868_73c0_11ea_94dd_9cb6d068150crow0_col1\" class=\"data row0 col1\" >$3.35</td>\n",
       "                        <td id=\"T_07867868_73c0_11ea_94dd_9cb6d068150crow0_col2\" class=\"data row0 col2\" >$77.13</td>\n",
       "                        <td id=\"T_07867868_73c0_11ea_94dd_9cb6d068150crow0_col3\" class=\"data row0 col3\" >$3.35</td>\n",
       "            </tr>\n",
       "            <tr>\n",
       "                        <th id=\"T_07867868_73c0_11ea_94dd_9cb6d068150clevel0_row1\" class=\"row_heading level0 row1\" >10-14</th>\n",
       "                        <td id=\"T_07867868_73c0_11ea_94dd_9cb6d068150crow1_col0\" class=\"data row1 col0\" >28</td>\n",
       "                        <td id=\"T_07867868_73c0_11ea_94dd_9cb6d068150crow1_col1\" class=\"data row1 col1\" >$2.96</td>\n",
       "                        <td id=\"T_07867868_73c0_11ea_94dd_9cb6d068150crow1_col2\" class=\"data row1 col2\" >$82.78</td>\n",
       "                        <td id=\"T_07867868_73c0_11ea_94dd_9cb6d068150crow1_col3\" class=\"data row1 col3\" >$2.96</td>\n",
       "            </tr>\n",
       "            <tr>\n",
       "                        <th id=\"T_07867868_73c0_11ea_94dd_9cb6d068150clevel0_row2\" class=\"row_heading level0 row2\" >15-19</th>\n",
       "                        <td id=\"T_07867868_73c0_11ea_94dd_9cb6d068150crow2_col0\" class=\"data row2 col0\" >136</td>\n",
       "                        <td id=\"T_07867868_73c0_11ea_94dd_9cb6d068150crow2_col1\" class=\"data row2 col1\" >$3.04</td>\n",
       "                        <td id=\"T_07867868_73c0_11ea_94dd_9cb6d068150crow2_col2\" class=\"data row2 col2\" >$412.89</td>\n",
       "                        <td id=\"T_07867868_73c0_11ea_94dd_9cb6d068150crow2_col3\" class=\"data row2 col3\" >$3.04</td>\n",
       "            </tr>\n",
       "            <tr>\n",
       "                        <th id=\"T_07867868_73c0_11ea_94dd_9cb6d068150clevel0_row3\" class=\"row_heading level0 row3\" >20-24</th>\n",
       "                        <td id=\"T_07867868_73c0_11ea_94dd_9cb6d068150crow3_col0\" class=\"data row3 col0\" >365</td>\n",
       "                        <td id=\"T_07867868_73c0_11ea_94dd_9cb6d068150crow3_col1\" class=\"data row3 col1\" >$3.05</td>\n",
       "                        <td id=\"T_07867868_73c0_11ea_94dd_9cb6d068150crow3_col2\" class=\"data row3 col2\" >$1,114.06</td>\n",
       "                        <td id=\"T_07867868_73c0_11ea_94dd_9cb6d068150crow3_col3\" class=\"data row3 col3\" >$3.05</td>\n",
       "            </tr>\n",
       "            <tr>\n",
       "                        <th id=\"T_07867868_73c0_11ea_94dd_9cb6d068150clevel0_row4\" class=\"row_heading level0 row4\" >25-29</th>\n",
       "                        <td id=\"T_07867868_73c0_11ea_94dd_9cb6d068150crow4_col0\" class=\"data row4 col0\" >101</td>\n",
       "                        <td id=\"T_07867868_73c0_11ea_94dd_9cb6d068150crow4_col1\" class=\"data row4 col1\" >$2.90</td>\n",
       "                        <td id=\"T_07867868_73c0_11ea_94dd_9cb6d068150crow4_col2\" class=\"data row4 col2\" >$293.00</td>\n",
       "                        <td id=\"T_07867868_73c0_11ea_94dd_9cb6d068150crow4_col3\" class=\"data row4 col3\" >$2.90</td>\n",
       "            </tr>\n",
       "            <tr>\n",
       "                        <th id=\"T_07867868_73c0_11ea_94dd_9cb6d068150clevel0_row5\" class=\"row_heading level0 row5\" >30-34</th>\n",
       "                        <td id=\"T_07867868_73c0_11ea_94dd_9cb6d068150crow5_col0\" class=\"data row5 col0\" >73</td>\n",
       "                        <td id=\"T_07867868_73c0_11ea_94dd_9cb6d068150crow5_col1\" class=\"data row5 col1\" >$2.93</td>\n",
       "                        <td id=\"T_07867868_73c0_11ea_94dd_9cb6d068150crow5_col2\" class=\"data row5 col2\" >$214.00</td>\n",
       "                        <td id=\"T_07867868_73c0_11ea_94dd_9cb6d068150crow5_col3\" class=\"data row5 col3\" >$2.93</td>\n",
       "            </tr>\n",
       "            <tr>\n",
       "                        <th id=\"T_07867868_73c0_11ea_94dd_9cb6d068150clevel0_row6\" class=\"row_heading level0 row6\" >35-39</th>\n",
       "                        <td id=\"T_07867868_73c0_11ea_94dd_9cb6d068150crow6_col0\" class=\"data row6 col0\" >41</td>\n",
       "                        <td id=\"T_07867868_73c0_11ea_94dd_9cb6d068150crow6_col1\" class=\"data row6 col1\" >$3.60</td>\n",
       "                        <td id=\"T_07867868_73c0_11ea_94dd_9cb6d068150crow6_col2\" class=\"data row6 col2\" >$147.67</td>\n",
       "                        <td id=\"T_07867868_73c0_11ea_94dd_9cb6d068150crow6_col3\" class=\"data row6 col3\" >$3.60</td>\n",
       "            </tr>\n",
       "            <tr>\n",
       "                        <th id=\"T_07867868_73c0_11ea_94dd_9cb6d068150clevel0_row7\" class=\"row_heading level0 row7\" >40+</th>\n",
       "                        <td id=\"T_07867868_73c0_11ea_94dd_9cb6d068150crow7_col0\" class=\"data row7 col0\" >13</td>\n",
       "                        <td id=\"T_07867868_73c0_11ea_94dd_9cb6d068150crow7_col1\" class=\"data row7 col1\" >$2.94</td>\n",
       "                        <td id=\"T_07867868_73c0_11ea_94dd_9cb6d068150crow7_col2\" class=\"data row7 col2\" >$38.24</td>\n",
       "                        <td id=\"T_07867868_73c0_11ea_94dd_9cb6d068150crow7_col3\" class=\"data row7 col3\" >$2.94</td>\n",
       "            </tr>\n",
       "    </tbody></table>"
      ],
      "text/plain": [
       "<pandas.io.formats.style.Styler at 0x270a110d648>"
      ]
     },
     "execution_count": 9,
     "metadata": {},
     "output_type": "execute_result"
    }
   ],
   "source": [
    "purchase_data[\"Age Ranges\"] = pd.cut(purchase_data[\"Age\"], age_bins, labels=age_groups, include_lowest=True)\n",
    "\n",
    "age_purchase_total = purchase_data.groupby([\"Age Ranges\"]).sum()[\"Price\"]\n",
    "age_purchase_average = purchase_data.groupby([\"Age Ranges\"]).mean()[\"Price\"]\n",
    "age_counts = purchase_data.groupby([\"Age Ranges\"]).count()[\"Price\"]\n",
    "\n",
    "age_avg_per_person = age_purchase_total / age_demographics[\"Total Count\"]\n",
    "\n",
    "purchasing_analysis_age = pd.DataFrame({\"Purchase Count\": age_counts, \n",
    "                                \"Average Purchase Price\": age_purchase_average,\n",
    "                                \"Total Purchase Value\": age_purchase_total,\n",
    "                                \"Average Total Purchase per Person\": age_avg_per_person})\n",
    "\n",
    "format_dict = {\"Average Purchase Price\": \"${0:,.2f}\",\n",
    "               \"Total Purchase Value\": \"${0:,.2f}\",\n",
    "               \"Average Total Purchase per Person\": \"${0:,.2f}\"}\n",
    "purchasing_analysis_age.style.format(format_dict)"
   ]
  },
  {
   "cell_type": "markdown",
   "metadata": {},
   "source": [
    "## Top Spenders"
   ]
  },
  {
   "cell_type": "markdown",
   "metadata": {},
   "source": [
    "* Run basic calculations to obtain the results in the table below\n",
    "\n",
    "\n",
    "* Create a summary data frame to hold the results\n",
    "\n",
    "\n",
    "* Sort the total purchase value column in descending order\n",
    "\n",
    "\n",
    "* Optional: give the displayed data cleaner formatting\n",
    "\n",
    "\n",
    "* Display a preview of the summary data frame\n",
    "\n"
   ]
  },
  {
   "cell_type": "code",
   "execution_count": 10,
   "metadata": {},
   "outputs": [
    {
     "data": {
      "text/html": [
       "<style  type=\"text/css\" >\n",
       "</style><table id=\"T_0958bd5e_73c0_11ea_9875_9cb6d068150c\" ><thead>    <tr>        <th class=\"blank level0\" ></th>        <th class=\"col_heading level0 col0\" >Purchase Count</th>        <th class=\"col_heading level0 col1\" >Average Purchase Price</th>        <th class=\"col_heading level0 col2\" >Total Purchase Value</th>    </tr>    <tr>        <th class=\"index_name level0\" >SN</th>        <th class=\"blank\" ></th>        <th class=\"blank\" ></th>        <th class=\"blank\" ></th>    </tr></thead><tbody>\n",
       "                <tr>\n",
       "                        <th id=\"T_0958bd5e_73c0_11ea_9875_9cb6d068150clevel0_row0\" class=\"row_heading level0 row0\" >Lisosia93</th>\n",
       "                        <td id=\"T_0958bd5e_73c0_11ea_9875_9cb6d068150crow0_col0\" class=\"data row0 col0\" >5</td>\n",
       "                        <td id=\"T_0958bd5e_73c0_11ea_9875_9cb6d068150crow0_col1\" class=\"data row0 col1\" >$3.79</td>\n",
       "                        <td id=\"T_0958bd5e_73c0_11ea_9875_9cb6d068150crow0_col2\" class=\"data row0 col2\" >$18.96</td>\n",
       "            </tr>\n",
       "            <tr>\n",
       "                        <th id=\"T_0958bd5e_73c0_11ea_9875_9cb6d068150clevel0_row1\" class=\"row_heading level0 row1\" >Idastidru52</th>\n",
       "                        <td id=\"T_0958bd5e_73c0_11ea_9875_9cb6d068150crow1_col0\" class=\"data row1 col0\" >4</td>\n",
       "                        <td id=\"T_0958bd5e_73c0_11ea_9875_9cb6d068150crow1_col1\" class=\"data row1 col1\" >$3.86</td>\n",
       "                        <td id=\"T_0958bd5e_73c0_11ea_9875_9cb6d068150crow1_col2\" class=\"data row1 col2\" >$15.45</td>\n",
       "            </tr>\n",
       "            <tr>\n",
       "                        <th id=\"T_0958bd5e_73c0_11ea_9875_9cb6d068150clevel0_row2\" class=\"row_heading level0 row2\" >Chamjask73</th>\n",
       "                        <td id=\"T_0958bd5e_73c0_11ea_9875_9cb6d068150crow2_col0\" class=\"data row2 col0\" >3</td>\n",
       "                        <td id=\"T_0958bd5e_73c0_11ea_9875_9cb6d068150crow2_col1\" class=\"data row2 col1\" >$4.61</td>\n",
       "                        <td id=\"T_0958bd5e_73c0_11ea_9875_9cb6d068150crow2_col2\" class=\"data row2 col2\" >$13.83</td>\n",
       "            </tr>\n",
       "            <tr>\n",
       "                        <th id=\"T_0958bd5e_73c0_11ea_9875_9cb6d068150clevel0_row3\" class=\"row_heading level0 row3\" >Iral74</th>\n",
       "                        <td id=\"T_0958bd5e_73c0_11ea_9875_9cb6d068150crow3_col0\" class=\"data row3 col0\" >4</td>\n",
       "                        <td id=\"T_0958bd5e_73c0_11ea_9875_9cb6d068150crow3_col1\" class=\"data row3 col1\" >$3.40</td>\n",
       "                        <td id=\"T_0958bd5e_73c0_11ea_9875_9cb6d068150crow3_col2\" class=\"data row3 col2\" >$13.62</td>\n",
       "            </tr>\n",
       "            <tr>\n",
       "                        <th id=\"T_0958bd5e_73c0_11ea_9875_9cb6d068150clevel0_row4\" class=\"row_heading level0 row4\" >Iskadarya95</th>\n",
       "                        <td id=\"T_0958bd5e_73c0_11ea_9875_9cb6d068150crow4_col0\" class=\"data row4 col0\" >3</td>\n",
       "                        <td id=\"T_0958bd5e_73c0_11ea_9875_9cb6d068150crow4_col1\" class=\"data row4 col1\" >$4.37</td>\n",
       "                        <td id=\"T_0958bd5e_73c0_11ea_9875_9cb6d068150crow4_col2\" class=\"data row4 col2\" >$13.10</td>\n",
       "            </tr>\n",
       "    </tbody></table>"
      ],
      "text/plain": [
       "<pandas.io.formats.style.Styler at 0x270a111db88>"
      ]
     },
     "execution_count": 10,
     "metadata": {},
     "output_type": "execute_result"
    }
   ],
   "source": [
    "user_total_purchase_value = purchase_data.groupby([\"SN\"]).sum()[\"Price\"]\n",
    "user_average_purchase_price = purchase_data.groupby([\"SN\"]).mean()[\"Price\"]\n",
    "user_purchase_count = purchase_data.groupby([\"SN\"]).count()[\"Price\"]\n",
    "\n",
    "top_spenders = pd.DataFrame({\"Purchase Count\": user_purchase_count, \n",
    "                                \"Average Purchase Price\": user_average_purchase_price,\n",
    "                                \"Total Purchase Value\": user_total_purchase_value})\n",
    "\n",
    "format_dict = {\"Average Purchase Price\": \"${0:,.2f}\",\n",
    "               \"Total Purchase Value\": \"${0:,.2f}\"}\n",
    "top_spenders.sort_values(\"Total Purchase Value\", ascending=False).head(5).style.format(format_dict)"
   ]
  },
  {
   "cell_type": "markdown",
   "metadata": {},
   "source": [
    "## Most Popular Items"
   ]
  },
  {
   "cell_type": "markdown",
   "metadata": {},
   "source": [
    "* Retrieve the Item ID, Item Name, and Item Price columns\n",
    "\n",
    "\n",
    "* Group by Item ID and Item Name. Perform calculations to obtain purchase count, item price, and total purchase value\n",
    "\n",
    "\n",
    "* Create a summary data frame to hold the results\n",
    "\n",
    "\n",
    "* Sort the purchase count column in descending order\n",
    "\n",
    "\n",
    "* Optional: give the displayed data cleaner formatting\n",
    "\n",
    "\n",
    "* Display a preview of the summary data frame\n",
    "\n"
   ]
  },
  {
   "cell_type": "code",
   "execution_count": 11,
   "metadata": {},
   "outputs": [
    {
     "data": {
      "text/html": [
       "<style  type=\"text/css\" >\n",
       "</style><table id=\"T_0afeeba4_73c0_11ea_9401_9cb6d068150c\" ><thead>    <tr>        <th class=\"blank\" ></th>        <th class=\"blank level0\" ></th>        <th class=\"col_heading level0 col0\" >Purchase Count</th>        <th class=\"col_heading level0 col1\" >Item Price</th>        <th class=\"col_heading level0 col2\" >Total Purchase Value</th>    </tr>    <tr>        <th class=\"index_name level0\" >Item ID</th>        <th class=\"index_name level1\" >Item Name</th>        <th class=\"blank\" ></th>        <th class=\"blank\" ></th>        <th class=\"blank\" ></th>    </tr></thead><tbody>\n",
       "                <tr>\n",
       "                        <th id=\"T_0afeeba4_73c0_11ea_9401_9cb6d068150clevel0_row0\" class=\"row_heading level0 row0\" >92</th>\n",
       "                        <th id=\"T_0afeeba4_73c0_11ea_9401_9cb6d068150clevel1_row0\" class=\"row_heading level1 row0\" >Final Critic</th>\n",
       "                        <td id=\"T_0afeeba4_73c0_11ea_9401_9cb6d068150crow0_col0\" class=\"data row0 col0\" >13</td>\n",
       "                        <td id=\"T_0afeeba4_73c0_11ea_9401_9cb6d068150crow0_col1\" class=\"data row0 col1\" >$4.61</td>\n",
       "                        <td id=\"T_0afeeba4_73c0_11ea_9401_9cb6d068150crow0_col2\" class=\"data row0 col2\" >$59.99</td>\n",
       "            </tr>\n",
       "            <tr>\n",
       "                        <th id=\"T_0afeeba4_73c0_11ea_9401_9cb6d068150clevel0_row1\" class=\"row_heading level0 row1\" >178</th>\n",
       "                        <th id=\"T_0afeeba4_73c0_11ea_9401_9cb6d068150clevel1_row1\" class=\"row_heading level1 row1\" >Oathbreaker, Last Hope of the Breaking Storm</th>\n",
       "                        <td id=\"T_0afeeba4_73c0_11ea_9401_9cb6d068150crow1_col0\" class=\"data row1 col0\" >12</td>\n",
       "                        <td id=\"T_0afeeba4_73c0_11ea_9401_9cb6d068150crow1_col1\" class=\"data row1 col1\" >$4.23</td>\n",
       "                        <td id=\"T_0afeeba4_73c0_11ea_9401_9cb6d068150crow1_col2\" class=\"data row1 col2\" >$50.76</td>\n",
       "            </tr>\n",
       "            <tr>\n",
       "                        <th id=\"T_0afeeba4_73c0_11ea_9401_9cb6d068150clevel0_row2\" class=\"row_heading level0 row2\" >145</th>\n",
       "                        <th id=\"T_0afeeba4_73c0_11ea_9401_9cb6d068150clevel1_row2\" class=\"row_heading level1 row2\" >Fiery Glass Crusader</th>\n",
       "                        <td id=\"T_0afeeba4_73c0_11ea_9401_9cb6d068150crow2_col0\" class=\"data row2 col0\" >9</td>\n",
       "                        <td id=\"T_0afeeba4_73c0_11ea_9401_9cb6d068150crow2_col1\" class=\"data row2 col1\" >$4.58</td>\n",
       "                        <td id=\"T_0afeeba4_73c0_11ea_9401_9cb6d068150crow2_col2\" class=\"data row2 col2\" >$41.22</td>\n",
       "            </tr>\n",
       "            <tr>\n",
       "                        <th id=\"T_0afeeba4_73c0_11ea_9401_9cb6d068150clevel0_row3\" class=\"row_heading level0 row3\" >132</th>\n",
       "                        <th id=\"T_0afeeba4_73c0_11ea_9401_9cb6d068150clevel1_row3\" class=\"row_heading level1 row3\" >Persuasion</th>\n",
       "                        <td id=\"T_0afeeba4_73c0_11ea_9401_9cb6d068150crow3_col0\" class=\"data row3 col0\" >9</td>\n",
       "                        <td id=\"T_0afeeba4_73c0_11ea_9401_9cb6d068150crow3_col1\" class=\"data row3 col1\" >$3.22</td>\n",
       "                        <td id=\"T_0afeeba4_73c0_11ea_9401_9cb6d068150crow3_col2\" class=\"data row3 col2\" >$28.99</td>\n",
       "            </tr>\n",
       "            <tr>\n",
       "                        <th id=\"T_0afeeba4_73c0_11ea_9401_9cb6d068150clevel0_row4\" class=\"row_heading level0 row4\" >108</th>\n",
       "                        <th id=\"T_0afeeba4_73c0_11ea_9401_9cb6d068150clevel1_row4\" class=\"row_heading level1 row4\" >Extraction, Quickblade Of Trembling Hands</th>\n",
       "                        <td id=\"T_0afeeba4_73c0_11ea_9401_9cb6d068150crow4_col0\" class=\"data row4 col0\" >9</td>\n",
       "                        <td id=\"T_0afeeba4_73c0_11ea_9401_9cb6d068150crow4_col1\" class=\"data row4 col1\" >$3.53</td>\n",
       "                        <td id=\"T_0afeeba4_73c0_11ea_9401_9cb6d068150crow4_col2\" class=\"data row4 col2\" >$31.77</td>\n",
       "            </tr>\n",
       "    </tbody></table>"
      ],
      "text/plain": [
       "<pandas.io.formats.style.Styler at 0x270a1133488>"
      ]
     },
     "execution_count": 11,
     "metadata": {},
     "output_type": "execute_result"
    }
   ],
   "source": [
    "items_df = purchase_data.loc[:,[\"Item ID\", \"Item Name\", \"Price\"]]\n",
    "\n",
    "total_purchase_val = items_df.groupby([\"Item ID\", \"Item Name\"]).sum()[\"Price\"]\n",
    "purchase_count = items_df.groupby([\"Item ID\", \"Item Name\"]).count()[\"Price\"]\n",
    "item_price = items_df.groupby([\"Item ID\", \"Item Name\"]).sum()[\"Price\"] / purchase_count\n",
    "\n",
    "most_popular_items = pd.DataFrame({\"Purchase Count\": purchase_count,\n",
    "                                   \"Item Price\": item_price,\n",
    "                                   \"Total Purchase Value\": total_purchase_val})\n",
    "\n",
    "format_dict = {\"Item Price\": \"${0:,.2f}\",\"Total Purchase Value\": \"${0:,.2f}\"}\n",
    "most_popular_items.sort_values(\"Purchase Count\", ascending=False).head(5).style.format(format_dict)"
   ]
  },
  {
   "cell_type": "markdown",
   "metadata": {},
   "source": [
    "## Most Profitable Items"
   ]
  },
  {
   "cell_type": "markdown",
   "metadata": {},
   "source": [
    "* Sort the above table by total purchase value in descending order\n",
    "\n",
    "\n",
    "* Optional: give the displayed data cleaner formatting\n",
    "\n",
    "\n",
    "* Display a preview of the data frame\n",
    "\n"
   ]
  },
  {
   "cell_type": "code",
   "execution_count": 12,
   "metadata": {
    "scrolled": true
   },
   "outputs": [
    {
     "data": {
      "text/html": [
       "<style  type=\"text/css\" >\n",
       "</style><table id=\"T_0ccc65f4_73c0_11ea_aaa8_9cb6d068150c\" ><thead>    <tr>        <th class=\"blank\" ></th>        <th class=\"blank level0\" ></th>        <th class=\"col_heading level0 col0\" >Purchase Count</th>        <th class=\"col_heading level0 col1\" >Item Price</th>        <th class=\"col_heading level0 col2\" >Total Purchase Value</th>    </tr>    <tr>        <th class=\"index_name level0\" >Item ID</th>        <th class=\"index_name level1\" >Item Name</th>        <th class=\"blank\" ></th>        <th class=\"blank\" ></th>        <th class=\"blank\" ></th>    </tr></thead><tbody>\n",
       "                <tr>\n",
       "                        <th id=\"T_0ccc65f4_73c0_11ea_aaa8_9cb6d068150clevel0_row0\" class=\"row_heading level0 row0\" >92</th>\n",
       "                        <th id=\"T_0ccc65f4_73c0_11ea_aaa8_9cb6d068150clevel1_row0\" class=\"row_heading level1 row0\" >Final Critic</th>\n",
       "                        <td id=\"T_0ccc65f4_73c0_11ea_aaa8_9cb6d068150crow0_col0\" class=\"data row0 col0\" >13</td>\n",
       "                        <td id=\"T_0ccc65f4_73c0_11ea_aaa8_9cb6d068150crow0_col1\" class=\"data row0 col1\" >$4.61</td>\n",
       "                        <td id=\"T_0ccc65f4_73c0_11ea_aaa8_9cb6d068150crow0_col2\" class=\"data row0 col2\" >$59.99</td>\n",
       "            </tr>\n",
       "            <tr>\n",
       "                        <th id=\"T_0ccc65f4_73c0_11ea_aaa8_9cb6d068150clevel0_row1\" class=\"row_heading level0 row1\" >178</th>\n",
       "                        <th id=\"T_0ccc65f4_73c0_11ea_aaa8_9cb6d068150clevel1_row1\" class=\"row_heading level1 row1\" >Oathbreaker, Last Hope of the Breaking Storm</th>\n",
       "                        <td id=\"T_0ccc65f4_73c0_11ea_aaa8_9cb6d068150crow1_col0\" class=\"data row1 col0\" >12</td>\n",
       "                        <td id=\"T_0ccc65f4_73c0_11ea_aaa8_9cb6d068150crow1_col1\" class=\"data row1 col1\" >$4.23</td>\n",
       "                        <td id=\"T_0ccc65f4_73c0_11ea_aaa8_9cb6d068150crow1_col2\" class=\"data row1 col2\" >$50.76</td>\n",
       "            </tr>\n",
       "            <tr>\n",
       "                        <th id=\"T_0ccc65f4_73c0_11ea_aaa8_9cb6d068150clevel0_row2\" class=\"row_heading level0 row2\" >82</th>\n",
       "                        <th id=\"T_0ccc65f4_73c0_11ea_aaa8_9cb6d068150clevel1_row2\" class=\"row_heading level1 row2\" >Nirvana</th>\n",
       "                        <td id=\"T_0ccc65f4_73c0_11ea_aaa8_9cb6d068150crow2_col0\" class=\"data row2 col0\" >9</td>\n",
       "                        <td id=\"T_0ccc65f4_73c0_11ea_aaa8_9cb6d068150crow2_col1\" class=\"data row2 col1\" >$4.90</td>\n",
       "                        <td id=\"T_0ccc65f4_73c0_11ea_aaa8_9cb6d068150crow2_col2\" class=\"data row2 col2\" >$44.10</td>\n",
       "            </tr>\n",
       "            <tr>\n",
       "                        <th id=\"T_0ccc65f4_73c0_11ea_aaa8_9cb6d068150clevel0_row3\" class=\"row_heading level0 row3\" >145</th>\n",
       "                        <th id=\"T_0ccc65f4_73c0_11ea_aaa8_9cb6d068150clevel1_row3\" class=\"row_heading level1 row3\" >Fiery Glass Crusader</th>\n",
       "                        <td id=\"T_0ccc65f4_73c0_11ea_aaa8_9cb6d068150crow3_col0\" class=\"data row3 col0\" >9</td>\n",
       "                        <td id=\"T_0ccc65f4_73c0_11ea_aaa8_9cb6d068150crow3_col1\" class=\"data row3 col1\" >$4.58</td>\n",
       "                        <td id=\"T_0ccc65f4_73c0_11ea_aaa8_9cb6d068150crow3_col2\" class=\"data row3 col2\" >$41.22</td>\n",
       "            </tr>\n",
       "            <tr>\n",
       "                        <th id=\"T_0ccc65f4_73c0_11ea_aaa8_9cb6d068150clevel0_row4\" class=\"row_heading level0 row4\" >103</th>\n",
       "                        <th id=\"T_0ccc65f4_73c0_11ea_aaa8_9cb6d068150clevel1_row4\" class=\"row_heading level1 row4\" >Singed Scalpel</th>\n",
       "                        <td id=\"T_0ccc65f4_73c0_11ea_aaa8_9cb6d068150crow4_col0\" class=\"data row4 col0\" >8</td>\n",
       "                        <td id=\"T_0ccc65f4_73c0_11ea_aaa8_9cb6d068150crow4_col1\" class=\"data row4 col1\" >$4.35</td>\n",
       "                        <td id=\"T_0ccc65f4_73c0_11ea_aaa8_9cb6d068150crow4_col2\" class=\"data row4 col2\" >$34.80</td>\n",
       "            </tr>\n",
       "    </tbody></table>"
      ],
      "text/plain": [
       "<pandas.io.formats.style.Styler at 0x270a1050c88>"
      ]
     },
     "execution_count": 12,
     "metadata": {},
     "output_type": "execute_result"
    }
   ],
   "source": [
    "format_dict = {\"Item Price\": \"${0:,.2f}\",\"Total Purchase Value\": \"${0:,.2f}\"}\n",
    "most_popular_items.sort_values(\"Total Purchase Value\", ascending=False).head(5).style.format(format_dict)"
   ]
  },
  {
   "cell_type": "code",
   "execution_count": null,
   "metadata": {},
   "outputs": [],
   "source": []
  }
 ],
 "metadata": {
  "anaconda-cloud": {},
  "kernel_info": {
   "name": "python3"
  },
  "kernelspec": {
   "display_name": "Python 3",
   "language": "python",
   "name": "python3"
  },
  "language_info": {
   "codemirror_mode": {
    "name": "ipython",
    "version": 3
   },
   "file_extension": ".py",
   "mimetype": "text/x-python",
   "name": "python",
   "nbconvert_exporter": "python",
   "pygments_lexer": "ipython3",
   "version": "3.7.6"
  },
  "latex_envs": {
   "LaTeX_envs_menu_present": true,
   "autoclose": false,
   "autocomplete": true,
   "bibliofile": "biblio.bib",
   "cite_by": "apalike",
   "current_citInitial": 1,
   "eqLabelWithNumbers": true,
   "eqNumInitial": 1,
   "hotkeys": {
    "equation": "Ctrl-E",
    "itemize": "Ctrl-I"
   },
   "labels_anchors": false,
   "latex_user_defs": false,
   "report_style_numbering": false,
   "user_envs_cfg": false
  },
  "nteract": {
   "version": "0.2.0"
  }
 },
 "nbformat": 4,
 "nbformat_minor": 2
}
